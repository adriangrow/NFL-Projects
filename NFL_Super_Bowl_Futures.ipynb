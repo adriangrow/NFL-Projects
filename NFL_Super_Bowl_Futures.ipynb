{
 "cells": [
  {
   "cell_type": "markdown",
   "metadata": {
    "id": "8hlCJ6HVDfZI"
   },
   "source": [
    "![Sports History Logo.png](data:image/png;base64,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)\n",
    "\n",
    "**Mid-season Super Bowl Futures Odds**\n",
    "\n",
    "These are the Las Vegas odds that a specific team will win the Super Bowl. They are set during Preseason, Middle of the Regular Season, and Post Season."
   ]
  },
  {
   "cell_type": "code",
   "execution_count": 1,
   "metadata": {
    "colab": {
     "base_uri": "https://localhost:8080/"
    },
    "id": "-8hH1IlCCxMr",
    "outputId": "c9156e1c-043f-4916-beca-5843749965e4"
   },
   "outputs": [
    {
     "name": "stdout",
     "output_type": "stream",
     "text": [
      "Requirement already satisfied: lxml in /Users/adriangrow/opt/anaconda3/lib/python3.8/site-packages (4.6.1)\r\n"
     ]
    }
   ],
   "source": [
    "!pip install lxml\n",
    "import pandas as pd"
   ]
  },
  {
   "cell_type": "markdown",
   "metadata": {
    "id": "meS7ywn-F_KV"
   },
   "source": [
    "We are going to import the middle of the most recent season's data from the website [Sports Odds History](https://www.sportsoddshistory.com/nfl-reg/?y=2020&sa=nfl&a=sb&p=reg&o=r)"
   ]
  },
  {
   "cell_type": "code",
   "execution_count": 2,
   "metadata": {
    "id": "nuyajzbDFY7J"
   },
   "outputs": [],
   "source": [
    "html_url = \"https://www.sportsoddshistory.com/nfl-reg/?y=2020&sa=nfl&a=sb&p=pre&o=r\""
   ]
  },
  {
   "cell_type": "markdown",
   "metadata": {
    "id": "Q40qj7-t657z"
   },
   "source": [
    "Import all of the tables from the webpage and make the first row the header."
   ]
  },
  {
   "cell_type": "code",
   "execution_count": 3,
   "metadata": {
    "id": "T76_57zQG4QX"
   },
   "outputs": [],
   "source": [
    "futures_2020_table = pd.read_html(html_url, header=0)"
   ]
  },
  {
   "cell_type": "markdown",
   "metadata": {
    "id": "04Pz29cA7GX0"
   },
   "source": [
    "How many tables did we import?"
   ]
  },
  {
   "cell_type": "code",
   "execution_count": 4,
   "metadata": {
    "colab": {
     "base_uri": "https://localhost:8080/"
    },
    "id": "72YTwBWtG76R",
    "outputId": "41943fe8-5db3-4e98-9f9c-f5be9fd72f48"
   },
   "outputs": [
    {
     "data": {
      "text/plain": [
       "3"
      ]
     },
     "execution_count": 4,
     "metadata": {},
     "output_type": "execute_result"
    }
   ],
   "source": [
    "len(futures_2020_table)"
   ]
  },
  {
   "cell_type": "markdown",
   "metadata": {
    "id": "cZmUnB_V7Lty"
   },
   "source": [
    "We will import the 2nd table with the data that we need. "
   ]
  },
  {
   "cell_type": "code",
   "execution_count": 5,
   "metadata": {
    "id": "kY_wp5lHF2B6"
   },
   "outputs": [],
   "source": [
    "NFL_futures = futures_2020_table[1]"
   ]
  },
  {
   "cell_type": "markdown",
   "metadata": {
    "id": "cqEdF8CN7SI1"
   },
   "source": [
    "Double check the table's shape. 32 teams plus the header. "
   ]
  },
  {
   "cell_type": "code",
   "execution_count": 6,
   "metadata": {
    "colab": {
     "base_uri": "https://localhost:8080/"
    },
    "id": "cQaNGx701TXD",
    "outputId": "c5113ae6-5941-454d-f008-97a3f82103ab"
   },
   "outputs": [
    {
     "data": {
      "text/plain": [
       "(33, 19)"
      ]
     },
     "execution_count": 6,
     "metadata": {},
     "output_type": "execute_result"
    }
   ],
   "source": [
    "NFL_futures.shape"
   ]
  },
  {
   "cell_type": "markdown",
   "metadata": {
    "id": "OY1ef2xJ8OPW"
   },
   "source": [
    "Examine the first rows of the data. "
   ]
  },
  {
   "cell_type": "code",
   "execution_count": 7,
   "metadata": {
    "colab": {
     "base_uri": "https://localhost:8080/",
     "height": 326
    },
    "id": "IuNB-ZvUGl7B",
    "outputId": "65b75f22-3f9d-45bd-bb34-984afae40104"
   },
   "outputs": [
    {
     "data": {
      "text/html": [
       "<div>\n",
       "<style scoped>\n",
       "    .dataframe tbody tr th:only-of-type {\n",
       "        vertical-align: middle;\n",
       "    }\n",
       "\n",
       "    .dataframe tbody tr th {\n",
       "        vertical-align: top;\n",
       "    }\n",
       "\n",
       "    .dataframe thead th {\n",
       "        text-align: right;\n",
       "    }\n",
       "</style>\n",
       "<table border=\"1\" class=\"dataframe\">\n",
       "  <thead>\n",
       "    <tr style=\"text-align: right;\">\n",
       "      <th></th>\n",
       "      <th>Team</th>\n",
       "      <th>Regular season,prior to...</th>\n",
       "      <th>Regular season,prior to....1</th>\n",
       "      <th>Regular season,prior to....2</th>\n",
       "      <th>Regular season,prior to....3</th>\n",
       "      <th>Regular season,prior to....4</th>\n",
       "      <th>Regular season,prior to....5</th>\n",
       "      <th>Regular season,prior to....6</th>\n",
       "      <th>Regular season,prior to....7</th>\n",
       "      <th>Regular season,prior to....8</th>\n",
       "      <th>Regular season,prior to....9</th>\n",
       "      <th>Regular season,prior to....10</th>\n",
       "      <th>Regular season,prior to....11</th>\n",
       "      <th>Regular season,prior to....12</th>\n",
       "      <th>Regular season,prior to....13</th>\n",
       "      <th>Regular season,prior to....14</th>\n",
       "      <th>Regular season,prior to....15</th>\n",
       "      <th>Regular season,prior to....16</th>\n",
       "      <th>Result</th>\n",
       "    </tr>\n",
       "  </thead>\n",
       "  <tbody>\n",
       "    <tr>\n",
       "      <th>0</th>\n",
       "      <td>Team</td>\n",
       "      <td>Wk 1</td>\n",
       "      <td>Wk 2</td>\n",
       "      <td>Wk 3</td>\n",
       "      <td>Wk 4</td>\n",
       "      <td>Wk 5</td>\n",
       "      <td>Wk 6</td>\n",
       "      <td>Wk 7</td>\n",
       "      <td>Wk 8</td>\n",
       "      <td>Wk 9</td>\n",
       "      <td>Wk 10</td>\n",
       "      <td>Wk 11</td>\n",
       "      <td>Wk 12</td>\n",
       "      <td>Wk 13</td>\n",
       "      <td>Wk 14</td>\n",
       "      <td>Wk 15</td>\n",
       "      <td>Wk 16</td>\n",
       "      <td>Wk 17</td>\n",
       "      <td>Result</td>\n",
       "    </tr>\n",
       "    <tr>\n",
       "      <th>1</th>\n",
       "      <td>Tampa Bay Buccaneers</td>\n",
       "      <td>+1000</td>\n",
       "      <td>+1400</td>\n",
       "      <td>+1400</td>\n",
       "      <td>+1400</td>\n",
       "      <td>+1400</td>\n",
       "      <td>+1800</td>\n",
       "      <td>+1000</td>\n",
       "      <td>+700</td>\n",
       "      <td>+600</td>\n",
       "      <td>+900</td>\n",
       "      <td>+800</td>\n",
       "      <td>+800</td>\n",
       "      <td>+1400</td>\n",
       "      <td>+1400</td>\n",
       "      <td>+1400</td>\n",
       "      <td>+1400</td>\n",
       "      <td>+1200</td>\n",
       "      <td>** WINNER **</td>\n",
       "    </tr>\n",
       "    <tr>\n",
       "      <th>2</th>\n",
       "      <td>Kansas City Chiefs</td>\n",
       "      <td>+450</td>\n",
       "      <td>+400</td>\n",
       "      <td>+500</td>\n",
       "      <td>+300</td>\n",
       "      <td>+300</td>\n",
       "      <td>+500</td>\n",
       "      <td>+500</td>\n",
       "      <td>+400</td>\n",
       "      <td>+350</td>\n",
       "      <td>+350</td>\n",
       "      <td>+300</td>\n",
       "      <td>+300</td>\n",
       "      <td>+200</td>\n",
       "      <td>+200</td>\n",
       "      <td>+180</td>\n",
       "      <td>+160</td>\n",
       "      <td>+175</td>\n",
       "      <td>NaN</td>\n",
       "    </tr>\n",
       "    <tr>\n",
       "      <th>3</th>\n",
       "      <td>Green Bay Packers</td>\n",
       "      <td>+3000</td>\n",
       "      <td>+2500</td>\n",
       "      <td>+1200</td>\n",
       "      <td>+800</td>\n",
       "      <td>+1000</td>\n",
       "      <td>+900</td>\n",
       "      <td>+1200</td>\n",
       "      <td>+800</td>\n",
       "      <td>+1000</td>\n",
       "      <td>+800</td>\n",
       "      <td>+800</td>\n",
       "      <td>+1000</td>\n",
       "      <td>+800</td>\n",
       "      <td>+700</td>\n",
       "      <td>+700</td>\n",
       "      <td>+600</td>\n",
       "      <td>+500</td>\n",
       "      <td>NaN</td>\n",
       "    </tr>\n",
       "    <tr>\n",
       "      <th>4</th>\n",
       "      <td>Buffalo Bills</td>\n",
       "      <td>+3000</td>\n",
       "      <td>+3000</td>\n",
       "      <td>+2500</td>\n",
       "      <td>+2000</td>\n",
       "      <td>+2000</td>\n",
       "      <td>+2500</td>\n",
       "      <td>+2000</td>\n",
       "      <td>+2500</td>\n",
       "      <td>+2000</td>\n",
       "      <td>+1800</td>\n",
       "      <td>+2500</td>\n",
       "      <td>+2000</td>\n",
       "      <td>+1800</td>\n",
       "      <td>+1400</td>\n",
       "      <td>+1000</td>\n",
       "      <td>+1200</td>\n",
       "      <td>+800</td>\n",
       "      <td>NaN</td>\n",
       "    </tr>\n",
       "  </tbody>\n",
       "</table>\n",
       "</div>"
      ],
      "text/plain": [
       "                   Team Regular season,prior to...  \\\n",
       "0                  Team                       Wk 1   \n",
       "1  Tampa Bay Buccaneers                      +1000   \n",
       "2    Kansas City Chiefs                       +450   \n",
       "3     Green Bay Packers                      +3000   \n",
       "4         Buffalo Bills                      +3000   \n",
       "\n",
       "  Regular season,prior to....1 Regular season,prior to....2  \\\n",
       "0                         Wk 2                         Wk 3   \n",
       "1                        +1400                        +1400   \n",
       "2                         +400                         +500   \n",
       "3                        +2500                        +1200   \n",
       "4                        +3000                        +2500   \n",
       "\n",
       "  Regular season,prior to....3 Regular season,prior to....4  \\\n",
       "0                         Wk 4                         Wk 5   \n",
       "1                        +1400                        +1400   \n",
       "2                         +300                         +300   \n",
       "3                         +800                        +1000   \n",
       "4                        +2000                        +2000   \n",
       "\n",
       "  Regular season,prior to....5 Regular season,prior to....6  \\\n",
       "0                         Wk 6                         Wk 7   \n",
       "1                        +1800                        +1000   \n",
       "2                         +500                         +500   \n",
       "3                         +900                        +1200   \n",
       "4                        +2500                        +2000   \n",
       "\n",
       "  Regular season,prior to....7 Regular season,prior to....8  \\\n",
       "0                         Wk 8                         Wk 9   \n",
       "1                         +700                         +600   \n",
       "2                         +400                         +350   \n",
       "3                         +800                        +1000   \n",
       "4                        +2500                        +2000   \n",
       "\n",
       "  Regular season,prior to....9 Regular season,prior to....10  \\\n",
       "0                        Wk 10                         Wk 11   \n",
       "1                         +900                          +800   \n",
       "2                         +350                          +300   \n",
       "3                         +800                          +800   \n",
       "4                        +1800                         +2500   \n",
       "\n",
       "  Regular season,prior to....11 Regular season,prior to....12  \\\n",
       "0                         Wk 12                         Wk 13   \n",
       "1                          +800                         +1400   \n",
       "2                          +300                          +200   \n",
       "3                         +1000                          +800   \n",
       "4                         +2000                         +1800   \n",
       "\n",
       "  Regular season,prior to....13 Regular season,prior to....14  \\\n",
       "0                         Wk 14                         Wk 15   \n",
       "1                         +1400                         +1400   \n",
       "2                          +200                          +180   \n",
       "3                          +700                          +700   \n",
       "4                         +1400                         +1000   \n",
       "\n",
       "  Regular season,prior to....15 Regular season,prior to....16        Result  \n",
       "0                         Wk 16                         Wk 17        Result  \n",
       "1                         +1400                         +1200  ** WINNER **  \n",
       "2                          +160                          +175           NaN  \n",
       "3                          +600                          +500           NaN  \n",
       "4                         +1200                          +800           NaN  "
      ]
     },
     "execution_count": 7,
     "metadata": {},
     "output_type": "execute_result"
    }
   ],
   "source": [
    "NFL_futures.head()"
   ]
  },
  {
   "cell_type": "markdown",
   "metadata": {
    "id": "sfJ-rqB48b7J"
   },
   "source": [
    "We'll have to convert the first row to the header and drop the \"Result\" column. \"inplace=True\" means that you are making changes to the dataframe without having to reassign the dataframe. "
   ]
  },
  {
   "cell_type": "code",
   "execution_count": 8,
   "metadata": {
    "colab": {
     "base_uri": "https://localhost:8080/",
     "height": 326
    },
    "id": "2MMn1Fbb1xJb",
    "outputId": "bf919d1a-dbd3-4505-a756-2581513dcff2"
   },
   "outputs": [
    {
     "data": {
      "text/html": [
       "<div>\n",
       "<style scoped>\n",
       "    .dataframe tbody tr th:only-of-type {\n",
       "        vertical-align: middle;\n",
       "    }\n",
       "\n",
       "    .dataframe tbody tr th {\n",
       "        vertical-align: top;\n",
       "    }\n",
       "\n",
       "    .dataframe thead th {\n",
       "        text-align: right;\n",
       "    }\n",
       "</style>\n",
       "<table border=\"1\" class=\"dataframe\">\n",
       "  <thead>\n",
       "    <tr style=\"text-align: right;\">\n",
       "      <th></th>\n",
       "      <th>Team</th>\n",
       "      <th>Wk 1</th>\n",
       "      <th>Wk 2</th>\n",
       "      <th>Wk 3</th>\n",
       "      <th>Wk 4</th>\n",
       "      <th>Wk 5</th>\n",
       "      <th>Wk 6</th>\n",
       "      <th>Wk 7</th>\n",
       "      <th>Wk 8</th>\n",
       "      <th>Wk 9</th>\n",
       "      <th>Wk 10</th>\n",
       "      <th>Wk 11</th>\n",
       "      <th>Wk 12</th>\n",
       "      <th>Wk 13</th>\n",
       "      <th>Wk 14</th>\n",
       "      <th>Wk 15</th>\n",
       "      <th>Wk 16</th>\n",
       "      <th>Wk 17</th>\n",
       "    </tr>\n",
       "  </thead>\n",
       "  <tbody>\n",
       "    <tr>\n",
       "      <th>1</th>\n",
       "      <td>Tampa Bay Buccaneers</td>\n",
       "      <td>+1000</td>\n",
       "      <td>+1400</td>\n",
       "      <td>+1400</td>\n",
       "      <td>+1400</td>\n",
       "      <td>+1400</td>\n",
       "      <td>+1800</td>\n",
       "      <td>+1000</td>\n",
       "      <td>+700</td>\n",
       "      <td>+600</td>\n",
       "      <td>+900</td>\n",
       "      <td>+800</td>\n",
       "      <td>+800</td>\n",
       "      <td>+1400</td>\n",
       "      <td>+1400</td>\n",
       "      <td>+1400</td>\n",
       "      <td>+1400</td>\n",
       "      <td>+1200</td>\n",
       "    </tr>\n",
       "    <tr>\n",
       "      <th>2</th>\n",
       "      <td>Kansas City Chiefs</td>\n",
       "      <td>+450</td>\n",
       "      <td>+400</td>\n",
       "      <td>+500</td>\n",
       "      <td>+300</td>\n",
       "      <td>+300</td>\n",
       "      <td>+500</td>\n",
       "      <td>+500</td>\n",
       "      <td>+400</td>\n",
       "      <td>+350</td>\n",
       "      <td>+350</td>\n",
       "      <td>+300</td>\n",
       "      <td>+300</td>\n",
       "      <td>+200</td>\n",
       "      <td>+200</td>\n",
       "      <td>+180</td>\n",
       "      <td>+160</td>\n",
       "      <td>+175</td>\n",
       "    </tr>\n",
       "    <tr>\n",
       "      <th>3</th>\n",
       "      <td>Green Bay Packers</td>\n",
       "      <td>+3000</td>\n",
       "      <td>+2500</td>\n",
       "      <td>+1200</td>\n",
       "      <td>+800</td>\n",
       "      <td>+1000</td>\n",
       "      <td>+900</td>\n",
       "      <td>+1200</td>\n",
       "      <td>+800</td>\n",
       "      <td>+1000</td>\n",
       "      <td>+800</td>\n",
       "      <td>+800</td>\n",
       "      <td>+1000</td>\n",
       "      <td>+800</td>\n",
       "      <td>+700</td>\n",
       "      <td>+700</td>\n",
       "      <td>+600</td>\n",
       "      <td>+500</td>\n",
       "    </tr>\n",
       "    <tr>\n",
       "      <th>4</th>\n",
       "      <td>Buffalo Bills</td>\n",
       "      <td>+3000</td>\n",
       "      <td>+3000</td>\n",
       "      <td>+2500</td>\n",
       "      <td>+2000</td>\n",
       "      <td>+2000</td>\n",
       "      <td>+2500</td>\n",
       "      <td>+2000</td>\n",
       "      <td>+2500</td>\n",
       "      <td>+2000</td>\n",
       "      <td>+1800</td>\n",
       "      <td>+2500</td>\n",
       "      <td>+2000</td>\n",
       "      <td>+1800</td>\n",
       "      <td>+1400</td>\n",
       "      <td>+1000</td>\n",
       "      <td>+1200</td>\n",
       "      <td>+800</td>\n",
       "    </tr>\n",
       "    <tr>\n",
       "      <th>5</th>\n",
       "      <td>New Orleans Saints</td>\n",
       "      <td>+1000</td>\n",
       "      <td>+900</td>\n",
       "      <td>+1000</td>\n",
       "      <td>+1600</td>\n",
       "      <td>+1400</td>\n",
       "      <td>+1400</td>\n",
       "      <td>+1600</td>\n",
       "      <td>+1600</td>\n",
       "      <td>+1400</td>\n",
       "      <td>+700</td>\n",
       "      <td>+600</td>\n",
       "      <td>+550</td>\n",
       "      <td>+600</td>\n",
       "      <td>+600</td>\n",
       "      <td>+700</td>\n",
       "      <td>+1000</td>\n",
       "      <td>+800</td>\n",
       "    </tr>\n",
       "  </tbody>\n",
       "</table>\n",
       "</div>"
      ],
      "text/plain": [
       "0                  Team   Wk 1   Wk 2   Wk 3   Wk 4   Wk 5   Wk 6   Wk 7  \\\n",
       "1  Tampa Bay Buccaneers  +1000  +1400  +1400  +1400  +1400  +1800  +1000   \n",
       "2    Kansas City Chiefs   +450   +400   +500   +300   +300   +500   +500   \n",
       "3     Green Bay Packers  +3000  +2500  +1200   +800  +1000   +900  +1200   \n",
       "4         Buffalo Bills  +3000  +3000  +2500  +2000  +2000  +2500  +2000   \n",
       "5    New Orleans Saints  +1000   +900  +1000  +1600  +1400  +1400  +1600   \n",
       "\n",
       "0   Wk 8   Wk 9  Wk 10  Wk 11  Wk 12  Wk 13  Wk 14  Wk 15  Wk 16  Wk 17  \n",
       "1   +700   +600   +900   +800   +800  +1400  +1400  +1400  +1400  +1200  \n",
       "2   +400   +350   +350   +300   +300   +200   +200   +180   +160   +175  \n",
       "3   +800  +1000   +800   +800  +1000   +800   +700   +700   +600   +500  \n",
       "4  +2500  +2000  +1800  +2500  +2000  +1800  +1400  +1000  +1200   +800  \n",
       "5  +1600  +1400   +700   +600   +550   +600   +600   +700  +1000   +800  "
      ]
     },
     "execution_count": 8,
     "metadata": {},
     "output_type": "execute_result"
    }
   ],
   "source": [
    "NFL_futures.columns = NFL_futures.iloc[0]\n",
    "NFL_futures.drop([0,0], inplace=True)\n",
    "NFL_futures.drop('Result', axis=1, inplace=True)\n",
    "NFL_futures.head()"
   ]
  },
  {
   "cell_type": "markdown",
   "metadata": {
    "id": "IGRt3N-U9Hrd"
   },
   "source": [
    "Send the table to a CSV file for further analysis"
   ]
  },
  {
   "cell_type": "code",
   "execution_count": 13,
   "metadata": {
    "id": "kxcbmsqqy7vg"
   },
   "outputs": [],
   "source": [
    "NFL_futures.to_csv('NFL_Futures_SB_LV.csv')"
   ]
  },
  {
   "cell_type": "code",
   "execution_count": null,
   "metadata": {},
   "outputs": [],
   "source": []
  }
 ],
 "metadata": {
  "colab": {
   "name": "NFL Super Bowl Futures.ipynb",
   "provenance": []
  },
  "kernelspec": {
   "display_name": "Python 3",
   "language": "python",
   "name": "python3"
  },
  "language_info": {
   "codemirror_mode": {
    "name": "ipython",
    "version": 3
   },
   "file_extension": ".py",
   "mimetype": "text/x-python",
   "name": "python",
   "nbconvert_exporter": "python",
   "pygments_lexer": "ipython3",
   "version": "3.8.5"
  }
 },
 "nbformat": 4,
 "nbformat_minor": 1
}
